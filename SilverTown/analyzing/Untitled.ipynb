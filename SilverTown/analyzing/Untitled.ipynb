{
 "cells": [
  {
   "cell_type": "code",
   "execution_count": 1,
   "id": "a4a68601",
   "metadata": {},
   "outputs": [],
   "source": [
    "import pandas as pd\n",
    "import numpy as np"
   ]
  },
  {
   "cell_type": "code",
   "execution_count": 2,
   "id": "cbc17095",
   "metadata": {},
   "outputs": [],
   "source": [
    "data = pd.read_csv('./data/톨게이트.csv',\n",
    "                   usecols={'영업소명', '주소'},\n",
    "                   encoding='cp949',\n",
    "                   low_memory = False)"
   ]
  },
  {
   "cell_type": "code",
   "execution_count": 3,
   "id": "71d74b5c",
   "metadata": {},
   "outputs": [
    {
     "data": {
      "text/html": [
       "<div>\n",
       "<style scoped>\n",
       "    .dataframe tbody tr th:only-of-type {\n",
       "        vertical-align: middle;\n",
       "    }\n",
       "\n",
       "    .dataframe tbody tr th {\n",
       "        vertical-align: top;\n",
       "    }\n",
       "\n",
       "    .dataframe thead th {\n",
       "        text-align: right;\n",
       "    }\n",
       "</style>\n",
       "<table border=\"1\" class=\"dataframe\">\n",
       "  <thead>\n",
       "    <tr style=\"text-align: right;\">\n",
       "      <th></th>\n",
       "      <th>영업소명</th>\n",
       "      <th>주소</th>\n",
       "    </tr>\n",
       "  </thead>\n",
       "  <tbody>\n",
       "    <tr>\n",
       "      <th>0</th>\n",
       "      <td>인천</td>\n",
       "      <td>인천광역시 계양구 경인고속도로 17</td>\n",
       "    </tr>\n",
       "    <tr>\n",
       "      <th>1</th>\n",
       "      <td>김포</td>\n",
       "      <td>경기도 김포시 김포대로 319번길 209-23</td>\n",
       "    </tr>\n",
       "    <tr>\n",
       "      <th>2</th>\n",
       "      <td>서서울</td>\n",
       "      <td>경기도 안산시 상록구 장하로 141-2</td>\n",
       "    </tr>\n",
       "    <tr>\n",
       "      <th>3</th>\n",
       "      <td>시흥</td>\n",
       "      <td>경기도 시흥시 서해안로 1780번길94</td>\n",
       "    </tr>\n",
       "    <tr>\n",
       "      <th>4</th>\n",
       "      <td>남인천</td>\n",
       "      <td>인천광역시 남동구 음실로 117번길 32</td>\n",
       "    </tr>\n",
       "    <tr>\n",
       "      <th>...</th>\n",
       "      <td>...</td>\n",
       "      <td>...</td>\n",
       "    </tr>\n",
       "    <tr>\n",
       "      <th>365</th>\n",
       "      <td>양산</td>\n",
       "      <td>경상남도 양산시 상북면 와곡2길 12-1</td>\n",
       "    </tr>\n",
       "    <tr>\n",
       "      <th>366</th>\n",
       "      <td>통도사</td>\n",
       "      <td>울산광역시 울주군 삼남면 반구대로 80</td>\n",
       "    </tr>\n",
       "    <tr>\n",
       "      <th>367</th>\n",
       "      <td>서울산</td>\n",
       "      <td>울산광역시 울주군 삼남면 반구대로 760</td>\n",
       "    </tr>\n",
       "    <tr>\n",
       "      <th>368</th>\n",
       "      <td>활천</td>\n",
       "      <td>울산광역시 울주군 두서면 활천내와로 30-25</td>\n",
       "    </tr>\n",
       "    <tr>\n",
       "      <th>369</th>\n",
       "      <td>배내골</td>\n",
       "      <td>경상남도 양산시 원동면 배내로 915</td>\n",
       "    </tr>\n",
       "  </tbody>\n",
       "</table>\n",
       "<p>370 rows × 2 columns</p>\n",
       "</div>"
      ],
      "text/plain": [
       "    영업소명                         주소\n",
       "0     인천        인천광역시 계양구 경인고속도로 17\n",
       "1     김포  경기도 김포시 김포대로 319번길 209-23\n",
       "2    서서울      경기도 안산시 상록구 장하로 141-2\n",
       "3     시흥      경기도 시흥시 서해안로 1780번길94\n",
       "4    남인천     인천광역시 남동구 음실로 117번길 32\n",
       "..   ...                        ...\n",
       "365   양산     경상남도 양산시 상북면 와곡2길 12-1\n",
       "366  통도사      울산광역시 울주군 삼남면 반구대로 80\n",
       "367  서울산     울산광역시 울주군 삼남면 반구대로 760\n",
       "368   활천  울산광역시 울주군 두서면 활천내와로 30-25\n",
       "369  배내골       경상남도 양산시 원동면 배내로 915\n",
       "\n",
       "[370 rows x 2 columns]"
      ]
     },
     "execution_count": 3,
     "metadata": {},
     "output_type": "execute_result"
    }
   ],
   "source": [
    "data"
   ]
  },
  {
   "cell_type": "code",
   "execution_count": 4,
   "id": "278fec83",
   "metadata": {},
   "outputs": [
    {
     "data": {
      "text/html": [
       "<div>\n",
       "<style scoped>\n",
       "    .dataframe tbody tr th:only-of-type {\n",
       "        vertical-align: middle;\n",
       "    }\n",
       "\n",
       "    .dataframe tbody tr th {\n",
       "        vertical-align: top;\n",
       "    }\n",
       "\n",
       "    .dataframe thead th {\n",
       "        text-align: right;\n",
       "    }\n",
       "</style>\n",
       "<table border=\"1\" class=\"dataframe\">\n",
       "  <thead>\n",
       "    <tr style=\"text-align: right;\">\n",
       "      <th></th>\n",
       "      <th>영업소명</th>\n",
       "      <th>주소</th>\n",
       "    </tr>\n",
       "  </thead>\n",
       "  <tbody>\n",
       "    <tr>\n",
       "      <th>38</th>\n",
       "      <td>토평</td>\n",
       "      <td>경기도 구리시 서울외곽순환고속도로 26(토평동)</td>\n",
       "    </tr>\n",
       "    <tr>\n",
       "      <th>39</th>\n",
       "      <td>구리남양주</td>\n",
       "      <td>경기도 구리시 서울외곽순환고속도로 27</td>\n",
       "    </tr>\n",
       "  </tbody>\n",
       "</table>\n",
       "</div>"
      ],
      "text/plain": [
       "     영업소명                          주소\n",
       "38     토평  경기도 구리시 서울외곽순환고속도로 26(토평동)\n",
       "39  구리남양주       경기도 구리시 서울외곽순환고속도로 27"
      ]
     },
     "execution_count": 4,
     "metadata": {},
     "output_type": "execute_result"
    }
   ],
   "source": [
    "res = data.주소.str.contains('서울', na=False)\n",
    "data_G = data[res]\n",
    "data_G"
   ]
  }
 ],
 "metadata": {
  "kernelspec": {
   "display_name": "Python 3 (ipykernel)",
   "language": "python",
   "name": "python3"
  },
  "language_info": {
   "codemirror_mode": {
    "name": "ipython",
    "version": 3
   },
   "file_extension": ".py",
   "mimetype": "text/x-python",
   "name": "python",
   "nbconvert_exporter": "python",
   "pygments_lexer": "ipython3",
   "version": "3.11.3"
  }
 },
 "nbformat": 4,
 "nbformat_minor": 5
}
