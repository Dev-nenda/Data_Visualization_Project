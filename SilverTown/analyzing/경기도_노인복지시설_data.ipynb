{
 "cells": [
  {
   "cell_type": "code",
   "execution_count": 1,
   "id": "57a85e15",
   "metadata": {},
   "outputs": [],
   "source": [
    "import pandas as pd\n",
    "import numpy as np\n"
   ]
  },
  {
   "cell_type": "code",
   "execution_count": 18,
   "id": "22eead72",
   "metadata": {},
   "outputs": [],
   "source": [
    "data = pd.read_csv('./data/노인복지시설현황.csv',\n",
    "                  low_memory = False)"
   ]
  },
  {
   "cell_type": "code",
   "execution_count": 19,
   "id": "535f3084",
   "metadata": {},
   "outputs": [],
   "source": [
    "data.drop(columns={'Unnamed: 0'}, inplace=True)"
   ]
  },
  {
   "cell_type": "code",
   "execution_count": 20,
   "id": "7e5026cf",
   "metadata": {},
   "outputs": [],
   "source": [
    "data = data.loc[83:114]"
   ]
  },
  {
   "cell_type": "code",
   "execution_count": 22,
   "id": "9da0ffff",
   "metadata": {},
   "outputs": [],
   "source": [
    "data = data.loc[84:114]"
   ]
  },
  {
   "cell_type": "code",
   "execution_count": 24,
   "id": "d4e60b65",
   "metadata": {
    "scrolled": true
   },
   "outputs": [],
   "source": [
    "data.set_index('지역',inplace=True)"
   ]
  },
  {
   "cell_type": "code",
   "execution_count": 26,
   "id": "5ab654c5",
   "metadata": {},
   "outputs": [],
   "source": [
    "data.to_csv('./data/경기도_노인복지시설_data.csv')"
   ]
  }
 ],
 "metadata": {
  "kernelspec": {
   "display_name": "Python 3 (ipykernel)",
   "language": "python",
   "name": "python3"
  },
  "language_info": {
   "codemirror_mode": {
    "name": "ipython",
    "version": 3
   },
   "file_extension": ".py",
   "mimetype": "text/x-python",
   "name": "python",
   "nbconvert_exporter": "python",
   "pygments_lexer": "ipython3",
   "version": "3.11.3"
  }
 },
 "nbformat": 4,
 "nbformat_minor": 5
}
