{
 "cells": [
  {
   "cell_type": "code",
   "execution_count": 1,
   "id": "dd989d71",
   "metadata": {},
   "outputs": [],
   "source": [
    "import pandas as pd\n",
    "import numpy as np\n",
    "import matplotlib.pyplot as plt\n",
    "%matplotlib inline"
   ]
  },
  {
   "cell_type": "code",
   "execution_count": 2,
   "id": "b67f6dc7",
   "metadata": {},
   "outputs": [],
   "source": [
    "data = pd.read_csv('./data/병원list.csv', \n",
    "                  low_memory=False)"
   ]
  },
  {
   "cell_type": "code",
   "execution_count": 3,
   "id": "d0e7c631",
   "metadata": {
    "scrolled": true
   },
   "outputs": [
    {
     "data": {
      "text/html": [
       "<div>\n",
       "<style scoped>\n",
       "    .dataframe tbody tr th:only-of-type {\n",
       "        vertical-align: middle;\n",
       "    }\n",
       "\n",
       "    .dataframe tbody tr th {\n",
       "        vertical-align: top;\n",
       "    }\n",
       "\n",
       "    .dataframe thead th {\n",
       "        text-align: right;\n",
       "    }\n",
       "</style>\n",
       "<table border=\"1\" class=\"dataframe\">\n",
       "  <thead>\n",
       "    <tr style=\"text-align: right;\">\n",
       "      <th></th>\n",
       "      <th>Unnamed: 0</th>\n",
       "      <th>의료기관명</th>\n",
       "      <th>병원종류</th>\n",
       "      <th>주소</th>\n",
       "    </tr>\n",
       "  </thead>\n",
       "  <tbody>\n",
       "    <tr>\n",
       "      <th>0</th>\n",
       "      <td>1</td>\n",
       "      <td>서울대학교병원</td>\n",
       "      <td>상급종합병원</td>\n",
       "      <td>서울특별시 종로구 대학로 101</td>\n",
       "    </tr>\n",
       "    <tr>\n",
       "      <th>1</th>\n",
       "      <td>2</td>\n",
       "      <td>부산대학교병원</td>\n",
       "      <td>상급종합병원</td>\n",
       "      <td>부산광역시 서구 구덕로 179</td>\n",
       "    </tr>\n",
       "    <tr>\n",
       "      <th>2</th>\n",
       "      <td>3</td>\n",
       "      <td>경북대학교병원</td>\n",
       "      <td>상급종합병원</td>\n",
       "      <td>대구광역시 중구 동덕로 130(삼덕로 2가)</td>\n",
       "    </tr>\n",
       "    <tr>\n",
       "      <th>3</th>\n",
       "      <td>4</td>\n",
       "      <td>칠곡경북대학교병원</td>\n",
       "      <td>상급종합병원</td>\n",
       "      <td>대구광역시 북구 호국로 807</td>\n",
       "    </tr>\n",
       "    <tr>\n",
       "      <th>4</th>\n",
       "      <td>5</td>\n",
       "      <td>전남대학교병원</td>\n",
       "      <td>상급종합병원</td>\n",
       "      <td>광주 동구 제봉로 42</td>\n",
       "    </tr>\n",
       "  </tbody>\n",
       "</table>\n",
       "</div>"
      ],
      "text/plain": [
       "   Unnamed: 0      의료기관명    병원종류                        주소\n",
       "0           1    서울대학교병원  상급종합병원         서울특별시 종로구 대학로 101\n",
       "1           2    부산대학교병원  상급종합병원          부산광역시 서구 구덕로 179\n",
       "2           3    경북대학교병원  상급종합병원  대구광역시 중구 동덕로 130(삼덕로 2가)\n",
       "3           4  칠곡경북대학교병원  상급종합병원          대구광역시 북구 호국로 807\n",
       "4           5    전남대학교병원  상급종합병원              광주 동구 제봉로 42"
      ]
     },
     "execution_count": 3,
     "metadata": {},
     "output_type": "execute_result"
    }
   ],
   "source": [
    "data.head()"
   ]
  },
  {
   "cell_type": "code",
   "execution_count": 4,
   "id": "33e39443",
   "metadata": {},
   "outputs": [
    {
     "data": {
      "text/html": [
       "<div>\n",
       "<style scoped>\n",
       "    .dataframe tbody tr th:only-of-type {\n",
       "        vertical-align: middle;\n",
       "    }\n",
       "\n",
       "    .dataframe tbody tr th {\n",
       "        vertical-align: top;\n",
       "    }\n",
       "\n",
       "    .dataframe thead th {\n",
       "        text-align: right;\n",
       "    }\n",
       "</style>\n",
       "<table border=\"1\" class=\"dataframe\">\n",
       "  <thead>\n",
       "    <tr style=\"text-align: right;\">\n",
       "      <th></th>\n",
       "      <th>Unnamed: 0</th>\n",
       "      <th>의료기관명</th>\n",
       "      <th>병원종류</th>\n",
       "      <th>주소</th>\n",
       "    </tr>\n",
       "  </thead>\n",
       "  <tbody>\n",
       "    <tr>\n",
       "      <th>0</th>\n",
       "      <td>1</td>\n",
       "      <td>서울대학교병원</td>\n",
       "      <td>상급종합병원</td>\n",
       "      <td>서울특별시 종로구 대학로 101</td>\n",
       "    </tr>\n",
       "    <tr>\n",
       "      <th>12</th>\n",
       "      <td>13</td>\n",
       "      <td>국립중앙의료원</td>\n",
       "      <td>종합병원</td>\n",
       "      <td>서울특별시 중구 을지로 245</td>\n",
       "    </tr>\n",
       "    <tr>\n",
       "      <th>13</th>\n",
       "      <td>14</td>\n",
       "      <td>한국원자력의학원원자력병원</td>\n",
       "      <td>종합병원</td>\n",
       "      <td>서울 노원구 노원로 75</td>\n",
       "    </tr>\n",
       "    <tr>\n",
       "      <th>14</th>\n",
       "      <td>15</td>\n",
       "      <td>경찰병원</td>\n",
       "      <td>종합병원</td>\n",
       "      <td>서울특별시 송파구 송이로 123</td>\n",
       "    </tr>\n",
       "    <tr>\n",
       "      <th>15</th>\n",
       "      <td>16</td>\n",
       "      <td>한국보훈복지의료공단 중앙보훈병원</td>\n",
       "      <td>종합병원</td>\n",
       "      <td>서울시 강동구 진황도로 61길 53</td>\n",
       "    </tr>\n",
       "    <tr>\n",
       "      <th>16</th>\n",
       "      <td>17</td>\n",
       "      <td>서울특별시 서울의료원</td>\n",
       "      <td>종합병원</td>\n",
       "      <td>서울 중랑구 신내로 156</td>\n",
       "    </tr>\n",
       "    <tr>\n",
       "      <th>17</th>\n",
       "      <td>18</td>\n",
       "      <td>서울특별시 동부병원</td>\n",
       "      <td>종합병원</td>\n",
       "      <td>서울특별시 동대문구 무학로 124 (용두동)</td>\n",
       "    </tr>\n",
       "    <tr>\n",
       "      <th>18</th>\n",
       "      <td>19</td>\n",
       "      <td>서울특별시 보라매병원</td>\n",
       "      <td>종합병원</td>\n",
       "      <td>서울 동작구 보라매로5길 20</td>\n",
       "    </tr>\n",
       "    <tr>\n",
       "      <th>19</th>\n",
       "      <td>20</td>\n",
       "      <td>서울특별시 서남병원</td>\n",
       "      <td>종합병원</td>\n",
       "      <td>서울 양천구 신정이펜1로 20 (서울특별시서남병원)</td>\n",
       "    </tr>\n",
       "    <tr>\n",
       "      <th>20</th>\n",
       "      <td>21</td>\n",
       "      <td>서울적십자병원</td>\n",
       "      <td>종합병원</td>\n",
       "      <td>서울특별시 종로구 새문안로 9</td>\n",
       "    </tr>\n",
       "  </tbody>\n",
       "</table>\n",
       "</div>"
      ],
      "text/plain": [
       "    Unnamed: 0              의료기관명    병원종류                            주소\n",
       "0            1            서울대학교병원  상급종합병원             서울특별시 종로구 대학로 101\n",
       "12          13            국립중앙의료원    종합병원              서울특별시 중구 을지로 245\n",
       "13          14      한국원자력의학원원자력병원    종합병원                 서울 노원구 노원로 75\n",
       "14          15               경찰병원    종합병원             서울특별시 송파구 송이로 123\n",
       "15          16  한국보훈복지의료공단 중앙보훈병원    종합병원          서울시 강동구 진황도로 61길 53 \n",
       "16          17        서울특별시 서울의료원    종합병원                서울 중랑구 신내로 156\n",
       "17          18         서울특별시 동부병원    종합병원      서울특별시 동대문구 무학로 124 (용두동)\n",
       "18          19        서울특별시 보라매병원    종합병원              서울 동작구 보라매로5길 20\n",
       "19          20         서울특별시 서남병원    종합병원  서울 양천구 신정이펜1로 20 (서울특별시서남병원)\n",
       "20          21            서울적십자병원    종합병원              서울특별시 종로구 새문안로 9"
      ]
     },
     "execution_count": 4,
     "metadata": {},
     "output_type": "execute_result"
    }
   ],
   "source": [
    "res = data.주소.str.contains('서울', na=False)\n",
    "data_hospital = data[res]\n",
    "data_hospital.head(20)\n",
    "\n"
   ]
  },
  {
   "cell_type": "code",
   "execution_count": 14,
   "id": "22ce8814",
   "metadata": {
    "scrolled": true
   },
   "outputs": [
    {
     "data": {
      "text/plain": [
       "0                   서울특별시 종로구 대학로 101\n",
       "12                   서울특별시 중구 을지로 245\n",
       "13                   서울특별시 노원구 노원로 75\n",
       "14                  서울특별시 송파구 송이로 123\n",
       "15            서울특별시시 강동구 진황도로 61길 53 \n",
       "16                  서울특별시 중랑구 신내로 156\n",
       "17           서울특별시 동대문구 무학로 124 (용두동)\n",
       "18                서울특별시 동작구 보라매로5길 20\n",
       "19    서울특별시 양천구 신정이펜1로 20 (서울특별시서남병원)\n",
       "20                   서울특별시 종로구 새문안로 9\n",
       "Name: 주소, dtype: object"
      ]
     },
     "execution_count": 14,
     "metadata": {},
     "output_type": "execute_result"
    }
   ],
   "source": [
    "addr = data_hospital.주소\n",
    "addr = addr.str.replace('서울특별시','서울')\n",
    "addr = addr.str.replace('서울', '서울특별시')\n",
    "addr\n",
    "# data_hospital.주소 = addr"
   ]
  },
  {
   "cell_type": "code",
   "execution_count": 15,
   "id": "d9c7fac8",
   "metadata": {},
   "outputs": [
    {
     "data": {
      "text/plain": [
       "0     서울특별시 종로구 \n",
       "12    서울특별시 중구 을\n",
       "13    서울특별시 노원구 \n",
       "14    서울특별시 송파구 \n",
       "15    서울특별시시 강동구\n",
       "16    서울특별시 중랑구 \n",
       "17    서울특별시 동대문구\n",
       "18    서울특별시 동작구 \n",
       "19    서울특별시 양천구 \n",
       "20    서울특별시 종로구 \n",
       "Name: 주소, dtype: object"
      ]
     },
     "execution_count": 15,
     "metadata": {},
     "output_type": "execute_result"
    }
   ],
   "source": [
    "addr = addr.str.slice(start=0, stop=10)\n",
    "addr"
   ]
  },
  {
   "cell_type": "code",
   "execution_count": 16,
   "id": "7cb48c84",
   "metadata": {},
   "outputs": [],
   "source": [
    "addr = addr.str.replace('중구 을', '중구')"
   ]
  },
  {
   "cell_type": "code",
   "execution_count": 17,
   "id": "56941916",
   "metadata": {},
   "outputs": [
    {
     "data": {
      "text/plain": [
       "0     서울특별시 종로구 \n",
       "12      서울특별시 중구\n",
       "13    서울특별시 노원구 \n",
       "14    서울특별시 송파구 \n",
       "15    서울특별시시 강동구\n",
       "16    서울특별시 중랑구 \n",
       "17    서울특별시 동대문구\n",
       "18    서울특별시 동작구 \n",
       "19    서울특별시 양천구 \n",
       "20    서울특별시 종로구 \n",
       "Name: 주소, dtype: object"
      ]
     },
     "execution_count": 17,
     "metadata": {},
     "output_type": "execute_result"
    }
   ],
   "source": [
    "addr"
   ]
  },
  {
   "cell_type": "code",
   "execution_count": 18,
   "id": "d00ca8f1",
   "metadata": {
    "scrolled": true
   },
   "outputs": [
    {
     "name": "stderr",
     "output_type": "stream",
     "text": [
      "C:\\Users\\TECH2-05\\AppData\\Local\\Temp\\ipykernel_3092\\1309525603.py:1: SettingWithCopyWarning: \n",
      "A value is trying to be set on a copy of a slice from a DataFrame.\n",
      "Try using .loc[row_indexer,col_indexer] = value instead\n",
      "\n",
      "See the caveats in the documentation: https://pandas.pydata.org/pandas-docs/stable/user_guide/indexing.html#returning-a-view-versus-a-copy\n",
      "  data_hospital.주소 = addr\n"
     ]
    }
   ],
   "source": [
    "data_hospital.주소 = addr"
   ]
  },
  {
   "cell_type": "code",
   "execution_count": 19,
   "id": "c8561901",
   "metadata": {},
   "outputs": [
    {
     "data": {
      "text/html": [
       "<div>\n",
       "<style scoped>\n",
       "    .dataframe tbody tr th:only-of-type {\n",
       "        vertical-align: middle;\n",
       "    }\n",
       "\n",
       "    .dataframe tbody tr th {\n",
       "        vertical-align: top;\n",
       "    }\n",
       "\n",
       "    .dataframe thead th {\n",
       "        text-align: right;\n",
       "    }\n",
       "</style>\n",
       "<table border=\"1\" class=\"dataframe\">\n",
       "  <thead>\n",
       "    <tr style=\"text-align: right;\">\n",
       "      <th></th>\n",
       "      <th>Unnamed: 0</th>\n",
       "      <th>의료기관명</th>\n",
       "      <th>병원종류</th>\n",
       "      <th>주소</th>\n",
       "    </tr>\n",
       "  </thead>\n",
       "  <tbody>\n",
       "    <tr>\n",
       "      <th>0</th>\n",
       "      <td>1</td>\n",
       "      <td>서울대학교병원</td>\n",
       "      <td>상급종합병원</td>\n",
       "      <td>서울특별시 종로구</td>\n",
       "    </tr>\n",
       "    <tr>\n",
       "      <th>12</th>\n",
       "      <td>13</td>\n",
       "      <td>국립중앙의료원</td>\n",
       "      <td>종합병원</td>\n",
       "      <td>서울특별시 중구</td>\n",
       "    </tr>\n",
       "    <tr>\n",
       "      <th>13</th>\n",
       "      <td>14</td>\n",
       "      <td>한국원자력의학원원자력병원</td>\n",
       "      <td>종합병원</td>\n",
       "      <td>서울특별시 노원구</td>\n",
       "    </tr>\n",
       "    <tr>\n",
       "      <th>14</th>\n",
       "      <td>15</td>\n",
       "      <td>경찰병원</td>\n",
       "      <td>종합병원</td>\n",
       "      <td>서울특별시 송파구</td>\n",
       "    </tr>\n",
       "    <tr>\n",
       "      <th>15</th>\n",
       "      <td>16</td>\n",
       "      <td>한국보훈복지의료공단 중앙보훈병원</td>\n",
       "      <td>종합병원</td>\n",
       "      <td>서울특별시시 강동구</td>\n",
       "    </tr>\n",
       "    <tr>\n",
       "      <th>16</th>\n",
       "      <td>17</td>\n",
       "      <td>서울특별시 서울의료원</td>\n",
       "      <td>종합병원</td>\n",
       "      <td>서울특별시 중랑구</td>\n",
       "    </tr>\n",
       "    <tr>\n",
       "      <th>17</th>\n",
       "      <td>18</td>\n",
       "      <td>서울특별시 동부병원</td>\n",
       "      <td>종합병원</td>\n",
       "      <td>서울특별시 동대문구</td>\n",
       "    </tr>\n",
       "    <tr>\n",
       "      <th>18</th>\n",
       "      <td>19</td>\n",
       "      <td>서울특별시 보라매병원</td>\n",
       "      <td>종합병원</td>\n",
       "      <td>서울특별시 동작구</td>\n",
       "    </tr>\n",
       "    <tr>\n",
       "      <th>19</th>\n",
       "      <td>20</td>\n",
       "      <td>서울특별시 서남병원</td>\n",
       "      <td>종합병원</td>\n",
       "      <td>서울특별시 양천구</td>\n",
       "    </tr>\n",
       "    <tr>\n",
       "      <th>20</th>\n",
       "      <td>21</td>\n",
       "      <td>서울적십자병원</td>\n",
       "      <td>종합병원</td>\n",
       "      <td>서울특별시 종로구</td>\n",
       "    </tr>\n",
       "  </tbody>\n",
       "</table>\n",
       "</div>"
      ],
      "text/plain": [
       "    Unnamed: 0              의료기관명    병원종류          주소\n",
       "0            1            서울대학교병원  상급종합병원  서울특별시 종로구 \n",
       "12          13            국립중앙의료원    종합병원    서울특별시 중구\n",
       "13          14      한국원자력의학원원자력병원    종합병원  서울특별시 노원구 \n",
       "14          15               경찰병원    종합병원  서울특별시 송파구 \n",
       "15          16  한국보훈복지의료공단 중앙보훈병원    종합병원  서울특별시시 강동구\n",
       "16          17        서울특별시 서울의료원    종합병원  서울특별시 중랑구 \n",
       "17          18         서울특별시 동부병원    종합병원  서울특별시 동대문구\n",
       "18          19        서울특별시 보라매병원    종합병원  서울특별시 동작구 \n",
       "19          20         서울특별시 서남병원    종합병원  서울특별시 양천구 \n",
       "20          21            서울적십자병원    종합병원  서울특별시 종로구 "
      ]
     },
     "execution_count": 19,
     "metadata": {},
     "output_type": "execute_result"
    }
   ],
   "source": [
    "data_hospital"
   ]
  },
  {
   "cell_type": "code",
   "execution_count": 21,
   "id": "a74da2a2",
   "metadata": {},
   "outputs": [],
   "source": [
    "data_hospital.to_csv('./data/서울특별시종합병원.csv')"
   ]
  }
 ],
 "metadata": {
  "kernelspec": {
   "display_name": "Python 3 (ipykernel)",
   "language": "python",
   "name": "python3"
  },
  "language_info": {
   "codemirror_mode": {
    "name": "ipython",
    "version": 3
   },
   "file_extension": ".py",
   "mimetype": "text/x-python",
   "name": "python",
   "nbconvert_exporter": "python",
   "pygments_lexer": "ipython3",
   "version": "3.11.3"
  }
 },
 "nbformat": 4,
 "nbformat_minor": 5
}
