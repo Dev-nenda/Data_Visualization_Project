{
 "cells": [
  {
   "cell_type": "code",
   "execution_count": 1,
   "id": "c94bc741",
   "metadata": {},
   "outputs": [],
   "source": [
    "import pandas as pd\n",
    "import numpy as np\n",
    "import matplotlib.pyplot as plt\n",
    "%matplotlib inline"
   ]
  },
  {
   "cell_type": "code",
   "execution_count": 2,
   "id": "95ec0dc7",
   "metadata": {},
   "outputs": [],
   "source": [
    "data = pd.read_csv('./data/업종별골프장현황.csv', \n",
    "                  encoding='cp949',\n",
    "                  low_memory=False)"
   ]
  },
  {
   "cell_type": "code",
   "execution_count": 3,
   "id": "237d611b",
   "metadata": {},
   "outputs": [
    {
     "data": {
      "text/html": [
       "<div>\n",
       "<style scoped>\n",
       "    .dataframe tbody tr th:only-of-type {\n",
       "        vertical-align: middle;\n",
       "    }\n",
       "\n",
       "    .dataframe tbody tr th {\n",
       "        vertical-align: top;\n",
       "    }\n",
       "\n",
       "    .dataframe thead th {\n",
       "        text-align: right;\n",
       "    }\n",
       "</style>\n",
       "<table border=\"1\" class=\"dataframe\">\n",
       "  <thead>\n",
       "    <tr style=\"text-align: right;\">\n",
       "      <th></th>\n",
       "      <th>업종명</th>\n",
       "      <th>사업장명</th>\n",
       "      <th>골프장면적</th>\n",
       "      <th>골프장홀수</th>\n",
       "      <th>정제도로명주소</th>\n",
       "      <th>정제지번주소</th>\n",
       "      <th>정제우편번호</th>\n",
       "      <th>정제WGS84경도</th>\n",
       "      <th>정제WGS84위도</th>\n",
       "    </tr>\n",
       "  </thead>\n",
       "  <tbody>\n",
       "    <tr>\n",
       "      <th>0</th>\n",
       "      <td>비회원제</td>\n",
       "      <td>더반</td>\n",
       "      <td>299311</td>\n",
       "      <td>9</td>\n",
       "      <td>경기도 이천시 대월면 대월로 627-141</td>\n",
       "      <td>경기도 이천시 대월면 도리리 66번지</td>\n",
       "      <td>17401.0</td>\n",
       "      <td>127.492201</td>\n",
       "      <td>37.209245</td>\n",
       "    </tr>\n",
       "    <tr>\n",
       "      <th>1</th>\n",
       "      <td>비회원제</td>\n",
       "      <td>사우스스프링스</td>\n",
       "      <td>975509</td>\n",
       "      <td>18</td>\n",
       "      <td>경기도 이천시 모가면 공원로 64</td>\n",
       "      <td>경기도 이천시 모가면 소고리 640-6번지</td>\n",
       "      <td>17407.0</td>\n",
       "      <td>127.450975</td>\n",
       "      <td>37.175198</td>\n",
       "    </tr>\n",
       "    <tr>\n",
       "      <th>2</th>\n",
       "      <td>회원제</td>\n",
       "      <td>블랙스톤</td>\n",
       "      <td>874136</td>\n",
       "      <td>18</td>\n",
       "      <td>경기도 이천시 장호원읍 장여로 459-160</td>\n",
       "      <td>경기도 이천시 장호원읍 풍계리 41-41번지</td>\n",
       "      <td>17414.0</td>\n",
       "      <td>127.617866</td>\n",
       "      <td>37.161592</td>\n",
       "    </tr>\n",
       "    <tr>\n",
       "      <th>3</th>\n",
       "      <td>비회원제</td>\n",
       "      <td>마이다스</td>\n",
       "      <td>1386077</td>\n",
       "      <td>27</td>\n",
       "      <td>경기도 이천시 설성면 설가로 602</td>\n",
       "      <td>경기도 이천시 설성면 송계리 산25-1번지</td>\n",
       "      <td>17409.0</td>\n",
       "      <td>127.524445</td>\n",
       "      <td>37.177107</td>\n",
       "    </tr>\n",
       "    <tr>\n",
       "      <th>4</th>\n",
       "      <td>비회원제</td>\n",
       "      <td>이천실크밸리</td>\n",
       "      <td>1379636</td>\n",
       "      <td>27</td>\n",
       "      <td>경기도 이천시 율면 고월로179번길 120</td>\n",
       "      <td>경기도 이천시 율면 월포리 714-34번지</td>\n",
       "      <td>17423.0</td>\n",
       "      <td>127.567891</td>\n",
       "      <td>37.083865</td>\n",
       "    </tr>\n",
       "  </tbody>\n",
       "</table>\n",
       "</div>"
      ],
      "text/plain": [
       "    업종명     사업장명    골프장면적  골프장홀수                   정제도로명주소  \\\n",
       "0  비회원제       더반   299311      9   경기도 이천시 대월면 대월로 627-141   \n",
       "1  비회원제  사우스스프링스   975509     18        경기도 이천시 모가면 공원로 64   \n",
       "2   회원제     블랙스톤   874136     18  경기도 이천시 장호원읍 장여로 459-160   \n",
       "3  비회원제     마이다스  1386077     27       경기도 이천시 설성면 설가로 602   \n",
       "4  비회원제   이천실크밸리  1379636     27   경기도 이천시 율면 고월로179번길 120   \n",
       "\n",
       "                     정제지번주소   정제우편번호   정제WGS84경도  정제WGS84위도  \n",
       "0      경기도 이천시 대월면 도리리 66번지  17401.0  127.492201  37.209245  \n",
       "1   경기도 이천시 모가면 소고리 640-6번지  17407.0  127.450975  37.175198  \n",
       "2  경기도 이천시 장호원읍 풍계리 41-41번지  17414.0  127.617866  37.161592  \n",
       "3   경기도 이천시 설성면 송계리 산25-1번지  17409.0  127.524445  37.177107  \n",
       "4   경기도 이천시 율면 월포리 714-34번지  17423.0  127.567891  37.083865  "
      ]
     },
     "execution_count": 3,
     "metadata": {},
     "output_type": "execute_result"
    }
   ],
   "source": [
    "data.head()"
   ]
  }
 ],
 "metadata": {
  "kernelspec": {
   "display_name": "Python 3 (ipykernel)",
   "language": "python",
   "name": "python3"
  },
  "language_info": {
   "codemirror_mode": {
    "name": "ipython",
    "version": 3
   },
   "file_extension": ".py",
   "mimetype": "text/x-python",
   "name": "python",
   "nbconvert_exporter": "python",
   "pygments_lexer": "ipython3",
   "version": "3.11.3"
  }
 },
 "nbformat": 4,
 "nbformat_minor": 5
}
