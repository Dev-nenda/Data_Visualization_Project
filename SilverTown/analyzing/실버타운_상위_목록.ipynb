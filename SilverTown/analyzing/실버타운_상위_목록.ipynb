{
 "cells": [
  {
   "cell_type": "code",
   "execution_count": 1,
   "id": "98b7e7bc",
   "metadata": {},
   "outputs": [],
   "source": [
    "import pandas as pd\n",
    "import numpy as np"
   ]
  },
  {
   "cell_type": "markdown",
   "id": "ba8e5c2a",
   "metadata": {},
   "source": [
    "1. 더시그넘하우스 5년 \n",
    "2. 서울시니어스강남타워 5년 \n",
    "3. 더클래식500 4년 \n",
    "4. 유당마을 4년\n",
    "5. 노블레스타워 3년 \n",
    "6. 서울시니어스분당타워 3년 \n",
    "7. 삼성노블카운티 3년 "
   ]
  },
  {
   "cell_type": "code",
   "execution_count": 9,
   "id": "c797ea7c",
   "metadata": {},
   "outputs": [],
   "source": [
    "columns = ['지역', '종합병원', '터미널 및 기차역', '지역 버스 노선', '지하철역', '공원', '골프장']\n",
    "index = ['더 시그넘 하우스', '서울 시니어스 강남타워', '더클래식500', '유당마을', '노블레스타워', '서울 시니어스 분당타워', '삼성 노블카운티' ]\n",
    "silvertown_top = pd.DataFrame(index=index, columns=columns)\n"
   ]
  },
  {
   "cell_type": "code",
   "execution_count": 10,
   "id": "7b441633",
   "metadata": {},
   "outputs": [
    {
     "data": {
      "text/html": [
       "<div>\n",
       "<style scoped>\n",
       "    .dataframe tbody tr th:only-of-type {\n",
       "        vertical-align: middle;\n",
       "    }\n",
       "\n",
       "    .dataframe tbody tr th {\n",
       "        vertical-align: top;\n",
       "    }\n",
       "\n",
       "    .dataframe thead th {\n",
       "        text-align: right;\n",
       "    }\n",
       "</style>\n",
       "<table border=\"1\" class=\"dataframe\">\n",
       "  <thead>\n",
       "    <tr style=\"text-align: right;\">\n",
       "      <th></th>\n",
       "      <th>지역</th>\n",
       "      <th>종합병원</th>\n",
       "      <th>터미널 및 기차역</th>\n",
       "      <th>지역 버스 노선</th>\n",
       "      <th>지하철역</th>\n",
       "      <th>공원</th>\n",
       "      <th>골프장</th>\n",
       "    </tr>\n",
       "  </thead>\n",
       "  <tbody>\n",
       "    <tr>\n",
       "      <th>더 시그넘 하우스</th>\n",
       "      <td>NaN</td>\n",
       "      <td>NaN</td>\n",
       "      <td>NaN</td>\n",
       "      <td>NaN</td>\n",
       "      <td>NaN</td>\n",
       "      <td>NaN</td>\n",
       "      <td>NaN</td>\n",
       "    </tr>\n",
       "    <tr>\n",
       "      <th>서울 시니어스 강남타워</th>\n",
       "      <td>NaN</td>\n",
       "      <td>NaN</td>\n",
       "      <td>NaN</td>\n",
       "      <td>NaN</td>\n",
       "      <td>NaN</td>\n",
       "      <td>NaN</td>\n",
       "      <td>NaN</td>\n",
       "    </tr>\n",
       "    <tr>\n",
       "      <th>더클래식500</th>\n",
       "      <td>NaN</td>\n",
       "      <td>NaN</td>\n",
       "      <td>NaN</td>\n",
       "      <td>NaN</td>\n",
       "      <td>NaN</td>\n",
       "      <td>NaN</td>\n",
       "      <td>NaN</td>\n",
       "    </tr>\n",
       "    <tr>\n",
       "      <th>유당마을</th>\n",
       "      <td>NaN</td>\n",
       "      <td>NaN</td>\n",
       "      <td>NaN</td>\n",
       "      <td>NaN</td>\n",
       "      <td>NaN</td>\n",
       "      <td>NaN</td>\n",
       "      <td>NaN</td>\n",
       "    </tr>\n",
       "    <tr>\n",
       "      <th>노블레스타워</th>\n",
       "      <td>NaN</td>\n",
       "      <td>NaN</td>\n",
       "      <td>NaN</td>\n",
       "      <td>NaN</td>\n",
       "      <td>NaN</td>\n",
       "      <td>NaN</td>\n",
       "      <td>NaN</td>\n",
       "    </tr>\n",
       "    <tr>\n",
       "      <th>서울 시니어스 분당타워</th>\n",
       "      <td>NaN</td>\n",
       "      <td>NaN</td>\n",
       "      <td>NaN</td>\n",
       "      <td>NaN</td>\n",
       "      <td>NaN</td>\n",
       "      <td>NaN</td>\n",
       "      <td>NaN</td>\n",
       "    </tr>\n",
       "    <tr>\n",
       "      <th>삼성 노블카운티</th>\n",
       "      <td>NaN</td>\n",
       "      <td>NaN</td>\n",
       "      <td>NaN</td>\n",
       "      <td>NaN</td>\n",
       "      <td>NaN</td>\n",
       "      <td>NaN</td>\n",
       "      <td>NaN</td>\n",
       "    </tr>\n",
       "  </tbody>\n",
       "</table>\n",
       "</div>"
      ],
      "text/plain": [
       "               지역 종합병원 터미널 및 기차역 지역 버스 노선 지하철역   공원  골프장\n",
       "더 시그넘 하우스     NaN  NaN       NaN      NaN  NaN  NaN  NaN\n",
       "서울 시니어스 강남타워  NaN  NaN       NaN      NaN  NaN  NaN  NaN\n",
       "더클래식500       NaN  NaN       NaN      NaN  NaN  NaN  NaN\n",
       "유당마을          NaN  NaN       NaN      NaN  NaN  NaN  NaN\n",
       "노블레스타워        NaN  NaN       NaN      NaN  NaN  NaN  NaN\n",
       "서울 시니어스 분당타워  NaN  NaN       NaN      NaN  NaN  NaN  NaN\n",
       "삼성 노블카운티      NaN  NaN       NaN      NaN  NaN  NaN  NaN"
      ]
     },
     "execution_count": 10,
     "metadata": {},
     "output_type": "execute_result"
    }
   ],
   "source": [
    "silvertown_top"
   ]
  },
  {
   "cell_type": "code",
   "execution_count": null,
   "id": "912f64f9",
   "metadata": {},
   "outputs": [],
   "source": []
  },
  {
   "cell_type": "code",
   "execution_count": null,
   "id": "4685321e",
   "metadata": {},
   "outputs": [],
   "source": []
  },
  {
   "cell_type": "code",
   "execution_count": null,
   "id": "d0a61b17",
   "metadata": {},
   "outputs": [],
   "source": []
  }
 ],
 "metadata": {
  "kernelspec": {
   "display_name": "Python 3 (ipykernel)",
   "language": "python",
   "name": "python3"
  },
  "language_info": {
   "codemirror_mode": {
    "name": "ipython",
    "version": 3
   },
   "file_extension": ".py",
   "mimetype": "text/x-python",
   "name": "python",
   "nbconvert_exporter": "python",
   "pygments_lexer": "ipython3",
   "version": "3.11.3"
  }
 },
 "nbformat": 4,
 "nbformat_minor": 5
}
