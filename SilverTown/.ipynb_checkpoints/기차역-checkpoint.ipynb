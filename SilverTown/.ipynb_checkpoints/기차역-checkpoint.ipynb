{
 "cells": [
  {
   "cell_type": "code",
   "execution_count": 1,
   "id": "69ae0af7",
   "metadata": {},
   "outputs": [],
   "source": [
    "import pandas as pd\n",
    "import numpy as np\n",
    "import matplotlib.pyplot as plt\n",
    "%matplotlib inline"
   ]
  },
  {
   "cell_type": "code",
   "execution_count": 4,
   "id": "03c00f05",
   "metadata": {},
   "outputs": [],
   "source": [
    "train_station = pd.read_excel('./data/기차역.xls',\n",
    "                             header=2,\n",
    "                             usecols='L,B,M')"
   ]
  },
  {
   "cell_type": "code",
   "execution_count": 3,
   "id": "e2b84934",
   "metadata": {},
   "outputs": [
    {
     "name": "stdout",
     "output_type": "stream",
     "text": [
      "Defaulting to user installation because normal site-packages is not writeable\n",
      "Collecting xlrd\n",
      "  Downloading xlrd-2.0.1-py2.py3-none-any.whl (96 kB)\n",
      "                                              0.0/96.5 kB ? eta -:--:--\n",
      "     ---------------------------------------- 96.5/96.5 kB 2.8 MB/s eta 0:00:00\n",
      "Installing collected packages: xlrd\n",
      "Successfully installed xlrd-2.0.1\n",
      "Note: you may need to restart the kernel to use updated packages.\n"
     ]
    }
   ],
   "source": [
    "pip install xlrd"
   ]
  },
  {
   "cell_type": "code",
   "execution_count": 5,
   "id": "caee37a3",
   "metadata": {},
   "outputs": [
    {
     "data": {
      "text/html": [
       "<div>\n",
       "<style scoped>\n",
       "    .dataframe tbody tr th:only-of-type {\n",
       "        vertical-align: middle;\n",
       "    }\n",
       "\n",
       "    .dataframe tbody tr th {\n",
       "        vertical-align: top;\n",
       "    }\n",
       "\n",
       "    .dataframe thead th {\n",
       "        text-align: right;\n",
       "    }\n",
       "</style>\n",
       "<table border=\"1\" class=\"dataframe\">\n",
       "  <thead>\n",
       "    <tr style=\"text-align: right;\">\n",
       "      <th></th>\n",
       "      <th>주소</th>\n",
       "      <th>역이름</th>\n",
       "      <th>소속지사</th>\n",
       "    </tr>\n",
       "  </thead>\n",
       "  <tbody>\n",
       "    <tr>\n",
       "      <th>0</th>\n",
       "      <td>서울시 중구 한강대로 405</td>\n",
       "      <td>서울역</td>\n",
       "      <td>서울본부</td>\n",
       "    </tr>\n",
       "    <tr>\n",
       "      <th>1</th>\n",
       "      <td>서울특별시 용산구 한강대로 23길 55</td>\n",
       "      <td>용산역</td>\n",
       "      <td>서울본부</td>\n",
       "    </tr>\n",
       "    <tr>\n",
       "      <th>2</th>\n",
       "      <td>서울특별시 영등포구 경인로 846</td>\n",
       "      <td>영등포역</td>\n",
       "      <td>수도권광역본부</td>\n",
       "    </tr>\n",
       "    <tr>\n",
       "      <th>3</th>\n",
       "      <td>경기도 광명시 광명역로 21</td>\n",
       "      <td>광명역</td>\n",
       "      <td>수도권광역본부</td>\n",
       "    </tr>\n",
       "    <tr>\n",
       "      <th>4</th>\n",
       "      <td>서울특별시 동대문구 왕산로 214</td>\n",
       "      <td>청량리역</td>\n",
       "      <td>서울본부</td>\n",
       "    </tr>\n",
       "    <tr>\n",
       "      <th>...</th>\n",
       "      <td>...</td>\n",
       "      <td>...</td>\n",
       "      <td>...</td>\n",
       "    </tr>\n",
       "    <tr>\n",
       "      <th>213</th>\n",
       "      <td>강원도 원주시 지정로 145</td>\n",
       "      <td>서원주역</td>\n",
       "      <td>서울본부</td>\n",
       "    </tr>\n",
       "    <tr>\n",
       "      <th>214</th>\n",
       "      <td>경상북도 봉화군 소천면 분천리 113-2</td>\n",
       "      <td>양원(영동선)역</td>\n",
       "      <td>대구경북본부</td>\n",
       "    </tr>\n",
       "    <tr>\n",
       "      <th>215</th>\n",
       "      <td>NaN</td>\n",
       "      <td>NaN</td>\n",
       "      <td>NaN</td>\n",
       "    </tr>\n",
       "    <tr>\n",
       "      <th>216</th>\n",
       "      <td>NaN</td>\n",
       "      <td>NaN</td>\n",
       "      <td>NaN</td>\n",
       "    </tr>\n",
       "    <tr>\n",
       "      <th>217</th>\n",
       "      <td>NaN</td>\n",
       "      <td>NaN</td>\n",
       "      <td>NaN</td>\n",
       "    </tr>\n",
       "  </tbody>\n",
       "</table>\n",
       "<p>218 rows × 3 columns</p>\n",
       "</div>"
      ],
      "text/plain": [
       "                         주소       역이름     소속지사\n",
       "0           서울시 중구 한강대로 405       서울역     서울본부\n",
       "1     서울특별시 용산구 한강대로 23길 55       용산역     서울본부\n",
       "2        서울특별시 영등포구 경인로 846      영등포역  수도권광역본부\n",
       "3           경기도 광명시 광명역로 21       광명역  수도권광역본부\n",
       "4        서울특별시 동대문구 왕산로 214      청량리역     서울본부\n",
       "..                      ...       ...      ...\n",
       "213         강원도 원주시 지정로 145      서원주역     서울본부\n",
       "214  경상북도 봉화군 소천면 분천리 113-2  양원(영동선)역   대구경북본부\n",
       "215                     NaN       NaN      NaN\n",
       "216                     NaN       NaN      NaN\n",
       "217                     NaN       NaN      NaN\n",
       "\n",
       "[218 rows x 3 columns]"
      ]
     },
     "execution_count": 5,
     "metadata": {},
     "output_type": "execute_result"
    }
   ],
   "source": [
    "train_station"
   ]
  },
  {
   "cell_type": "code",
   "execution_count": 16,
   "id": "a9d8ce9e",
   "metadata": {},
   "outputs": [],
   "source": [
    "train_station.to_csv('./data/기차역.csv')"
   ]
  }
 ],
 "metadata": {
  "kernelspec": {
   "display_name": "Python 3 (ipykernel)",
   "language": "python",
   "name": "python3"
  },
  "language_info": {
   "codemirror_mode": {
    "name": "ipython",
    "version": 3
   },
   "file_extension": ".py",
   "mimetype": "text/x-python",
   "name": "python",
   "nbconvert_exporter": "python",
   "pygments_lexer": "ipython3",
   "version": "3.11.3"
  }
 },
 "nbformat": 4,
 "nbformat_minor": 5
}
