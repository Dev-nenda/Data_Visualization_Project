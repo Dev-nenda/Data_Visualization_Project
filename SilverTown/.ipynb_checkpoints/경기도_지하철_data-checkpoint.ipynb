{
 "cells": [
  {
   "cell_type": "code",
   "execution_count": 1,
   "id": "47cb8eaf",
   "metadata": {},
   "outputs": [],
   "source": [
    "import pandas as pd\n",
    "import numpy as np"
   ]
  },
  {
   "cell_type": "code",
   "execution_count": 4,
   "id": "4e0fbe32",
   "metadata": {},
   "outputs": [],
   "source": [
    "data = pd.read_csv('./data/수도권(지하철).csv',\n",
    "                  low_memory = False)"
   ]
  },
  {
   "cell_type": "code",
   "execution_count": 5,
   "id": "3d803a42",
   "metadata": {
    "scrolled": true
   },
   "outputs": [
    {
     "data": {
      "text/html": [
       "<div>\n",
       "<style scoped>\n",
       "    .dataframe tbody tr th:only-of-type {\n",
       "        vertical-align: middle;\n",
       "    }\n",
       "\n",
       "    .dataframe tbody tr th {\n",
       "        vertical-align: top;\n",
       "    }\n",
       "\n",
       "    .dataframe thead th {\n",
       "        text-align: right;\n",
       "    }\n",
       "</style>\n",
       "<table border=\"1\" class=\"dataframe\">\n",
       "  <thead>\n",
       "    <tr style=\"text-align: right;\">\n",
       "      <th></th>\n",
       "      <th>Unnamed: 0</th>\n",
       "      <th>SBW_STATN_NM</th>\n",
       "      <th>ROAD_NM_ADDR</th>\n",
       "    </tr>\n",
       "  </thead>\n",
       "  <tbody>\n",
       "    <tr>\n",
       "      <th>0</th>\n",
       "      <td>14</td>\n",
       "      <td>소요산</td>\n",
       "      <td>경기도 동두천시 평화로 2925</td>\n",
       "    </tr>\n",
       "    <tr>\n",
       "      <th>1</th>\n",
       "      <td>15</td>\n",
       "      <td>동두천</td>\n",
       "      <td>경기도 동두천시 평화로 2687</td>\n",
       "    </tr>\n",
       "    <tr>\n",
       "      <th>2</th>\n",
       "      <td>16</td>\n",
       "      <td>보산</td>\n",
       "      <td>경기도 동두천시 평화로 2539</td>\n",
       "    </tr>\n",
       "    <tr>\n",
       "      <th>3</th>\n",
       "      <td>17</td>\n",
       "      <td>동두천중앙</td>\n",
       "      <td>경기도 동두천시 동두천로 228</td>\n",
       "    </tr>\n",
       "    <tr>\n",
       "      <th>4</th>\n",
       "      <td>18</td>\n",
       "      <td>지행</td>\n",
       "      <td>경기도 동두천시 평화로 2285</td>\n",
       "    </tr>\n",
       "    <tr>\n",
       "      <th>...</th>\n",
       "      <td>...</td>\n",
       "      <td>...</td>\n",
       "      <td>...</td>\n",
       "    </tr>\n",
       "    <tr>\n",
       "      <th>206</th>\n",
       "      <td>684</td>\n",
       "      <td>운양</td>\n",
       "      <td>경기도 김포시 김포한강1로 235(운양동)</td>\n",
       "    </tr>\n",
       "    <tr>\n",
       "      <th>207</th>\n",
       "      <td>685</td>\n",
       "      <td>걸포북변</td>\n",
       "      <td>경기도 김포시 김포대로 1040(북변동)</td>\n",
       "    </tr>\n",
       "    <tr>\n",
       "      <th>208</th>\n",
       "      <td>686</td>\n",
       "      <td>사우(김포시청)</td>\n",
       "      <td>경기도 김포시 김포대로 852(사우동)</td>\n",
       "    </tr>\n",
       "    <tr>\n",
       "      <th>209</th>\n",
       "      <td>687</td>\n",
       "      <td>풍무</td>\n",
       "      <td>경기도 김포시 김포대로 710(사우동)</td>\n",
       "    </tr>\n",
       "    <tr>\n",
       "      <th>210</th>\n",
       "      <td>688</td>\n",
       "      <td>고촌</td>\n",
       "      <td>경기도 김포시 고촌읍 김포대로 350</td>\n",
       "    </tr>\n",
       "  </tbody>\n",
       "</table>\n",
       "<p>211 rows × 3 columns</p>\n",
       "</div>"
      ],
      "text/plain": [
       "     Unnamed: 0 SBW_STATN_NM             ROAD_NM_ADDR\n",
       "0            14          소요산        경기도 동두천시 평화로 2925\n",
       "1            15          동두천        경기도 동두천시 평화로 2687\n",
       "2            16           보산        경기도 동두천시 평화로 2539\n",
       "3            17        동두천중앙        경기도 동두천시 동두천로 228\n",
       "4            18           지행        경기도 동두천시 평화로 2285\n",
       "..          ...          ...                      ...\n",
       "206         684           운양  경기도 김포시 김포한강1로 235(운양동)\n",
       "207         685         걸포북변   경기도 김포시 김포대로 1040(북변동)\n",
       "208         686     사우(김포시청)    경기도 김포시 김포대로 852(사우동)\n",
       "209         687           풍무    경기도 김포시 김포대로 710(사우동)\n",
       "210         688           고촌     경기도 김포시 고촌읍 김포대로 350\n",
       "\n",
       "[211 rows x 3 columns]"
      ]
     },
     "execution_count": 5,
     "metadata": {},
     "output_type": "execute_result"
    }
   ],
   "source": [
    "data"
   ]
  },
  {
   "cell_type": "code",
   "execution_count": 8,
   "id": "fd26ef34",
   "metadata": {},
   "outputs": [],
   "source": [
    "data.drop(columns={'Unnamed: 0'}, inplace = True)"
   ]
  },
  {
   "cell_type": "code",
   "execution_count": 10,
   "id": "f81b449e",
   "metadata": {},
   "outputs": [
    {
     "data": {
      "text/plain": [
       "0            경기도 동두천시 평화로 2925\n",
       "1            경기도 동두천시 평화로 2687\n",
       "2            경기도 동두천시 평화로 2539\n",
       "3            경기도 동두천시 동두천로 228\n",
       "4            경기도 동두천시 평화로 2285\n",
       "                ...           \n",
       "206    경기도 김포시 김포한강1로 235(운양동)\n",
       "207     경기도 김포시 김포대로 1040(북변동)\n",
       "208      경기도 김포시 김포대로 852(사우동)\n",
       "209      경기도 김포시 김포대로 710(사우동)\n",
       "210       경기도 김포시 고촌읍 김포대로 350\n",
       "Name: ROAD_NM_ADDR, Length: 211, dtype: object"
      ]
     },
     "execution_count": 10,
     "metadata": {},
     "output_type": "execute_result"
    }
   ],
   "source": [
    "addr = data.ROAD_NM_ADDR\n",
    "addr"
   ]
  },
  {
   "cell_type": "code",
   "execution_count": 11,
   "id": "26701b14",
   "metadata": {},
   "outputs": [
    {
     "data": {
      "text/plain": [
       "경기도 용인시     24\n",
       "경기도 의정부시    21\n",
       "경기도 고양시     21\n",
       "경기도 성남시     19\n",
       "경기도 남양주시    13\n",
       "경기도 안산시     13\n",
       "경기도 부천시     11\n",
       "경기도 수원시     11\n",
       "경기도 김포시      9\n",
       "경기도 양평군      9\n",
       "경기도 안양시      7\n",
       "경기도 군포시      7\n",
       "경기도 파주시      7\n",
       "경기도 시흥시      6\n",
       "경기도 동두천시     5\n",
       "경기도 평택시      5\n",
       "경기도 과천시      5\n",
       "경기도 오산시      4\n",
       "경기도 가평군      4\n",
       "경기도 광명시      3\n",
       "경기도 양주시      3\n",
       "경기도 구리시      2\n",
       "경기도 화성시      1\n",
       "경기도 의왕시      1\n",
       "Name: ROAD_NM_ADDR, dtype: int64"
      ]
     },
     "execution_count": 11,
     "metadata": {},
     "output_type": "execute_result"
    }
   ],
   "source": [
    "addr = addr.str.slice(start=0, stop=8)\n",
    "addr.value_counts()"
   ]
  },
  {
   "cell_type": "code",
   "execution_count": 12,
   "id": "1ecfd8fc",
   "metadata": {},
   "outputs": [],
   "source": [
    "subway_cnt = addr.value_counts()"
   ]
  },
  {
   "cell_type": "code",
   "execution_count": 13,
   "id": "290dbbfd",
   "metadata": {},
   "outputs": [
    {
     "data": {
      "text/plain": [
       "경기도 용인시     24\n",
       "경기도 의정부시    21\n",
       "경기도 고양시     21\n",
       "경기도 성남시     19\n",
       "경기도 남양주시    13\n",
       "경기도 안산시     13\n",
       "경기도 부천시     11\n",
       "경기도 수원시     11\n",
       "경기도 김포시      9\n",
       "경기도 양평군      9\n",
       "경기도 안양시      7\n",
       "경기도 군포시      7\n",
       "경기도 파주시      7\n",
       "경기도 시흥시      6\n",
       "경기도 동두천시     5\n",
       "경기도 평택시      5\n",
       "경기도 과천시      5\n",
       "경기도 오산시      4\n",
       "경기도 가평군      4\n",
       "경기도 광명시      3\n",
       "경기도 양주시      3\n",
       "경기도 구리시      2\n",
       "경기도 화성시      1\n",
       "경기도 의왕시      1\n",
       "Name: ROAD_NM_ADDR, dtype: int64"
      ]
     },
     "execution_count": 13,
     "metadata": {},
     "output_type": "execute_result"
    }
   ],
   "source": [
    "subway_cnt"
   ]
  },
  {
   "cell_type": "code",
   "execution_count": 14,
   "id": "165c53cd",
   "metadata": {},
   "outputs": [],
   "source": [
    "subway_cnt = pd.DataFrame(subway_cnt)\n"
   ]
  },
  {
   "cell_type": "code",
   "execution_count": 17,
   "id": "3d04dab4",
   "metadata": {},
   "outputs": [],
   "source": [
    "subway_cnt.rename(columns={'ROAD_NM_ADDR':'지하철 역'}, inplace=True)"
   ]
  },
  {
   "cell_type": "code",
   "execution_count": 18,
   "id": "1c2f9ab4",
   "metadata": {},
   "outputs": [
    {
     "data": {
      "text/html": [
       "<div>\n",
       "<style scoped>\n",
       "    .dataframe tbody tr th:only-of-type {\n",
       "        vertical-align: middle;\n",
       "    }\n",
       "\n",
       "    .dataframe tbody tr th {\n",
       "        vertical-align: top;\n",
       "    }\n",
       "\n",
       "    .dataframe thead th {\n",
       "        text-align: right;\n",
       "    }\n",
       "</style>\n",
       "<table border=\"1\" class=\"dataframe\">\n",
       "  <thead>\n",
       "    <tr style=\"text-align: right;\">\n",
       "      <th></th>\n",
       "      <th>지하철 역</th>\n",
       "    </tr>\n",
       "  </thead>\n",
       "  <tbody>\n",
       "    <tr>\n",
       "      <th>경기도 용인시</th>\n",
       "      <td>24</td>\n",
       "    </tr>\n",
       "    <tr>\n",
       "      <th>경기도 의정부시</th>\n",
       "      <td>21</td>\n",
       "    </tr>\n",
       "    <tr>\n",
       "      <th>경기도 고양시</th>\n",
       "      <td>21</td>\n",
       "    </tr>\n",
       "    <tr>\n",
       "      <th>경기도 성남시</th>\n",
       "      <td>19</td>\n",
       "    </tr>\n",
       "    <tr>\n",
       "      <th>경기도 남양주시</th>\n",
       "      <td>13</td>\n",
       "    </tr>\n",
       "    <tr>\n",
       "      <th>경기도 안산시</th>\n",
       "      <td>13</td>\n",
       "    </tr>\n",
       "    <tr>\n",
       "      <th>경기도 부천시</th>\n",
       "      <td>11</td>\n",
       "    </tr>\n",
       "    <tr>\n",
       "      <th>경기도 수원시</th>\n",
       "      <td>11</td>\n",
       "    </tr>\n",
       "    <tr>\n",
       "      <th>경기도 김포시</th>\n",
       "      <td>9</td>\n",
       "    </tr>\n",
       "    <tr>\n",
       "      <th>경기도 양평군</th>\n",
       "      <td>9</td>\n",
       "    </tr>\n",
       "    <tr>\n",
       "      <th>경기도 안양시</th>\n",
       "      <td>7</td>\n",
       "    </tr>\n",
       "    <tr>\n",
       "      <th>경기도 군포시</th>\n",
       "      <td>7</td>\n",
       "    </tr>\n",
       "    <tr>\n",
       "      <th>경기도 파주시</th>\n",
       "      <td>7</td>\n",
       "    </tr>\n",
       "    <tr>\n",
       "      <th>경기도 시흥시</th>\n",
       "      <td>6</td>\n",
       "    </tr>\n",
       "    <tr>\n",
       "      <th>경기도 동두천시</th>\n",
       "      <td>5</td>\n",
       "    </tr>\n",
       "    <tr>\n",
       "      <th>경기도 평택시</th>\n",
       "      <td>5</td>\n",
       "    </tr>\n",
       "    <tr>\n",
       "      <th>경기도 과천시</th>\n",
       "      <td>5</td>\n",
       "    </tr>\n",
       "    <tr>\n",
       "      <th>경기도 오산시</th>\n",
       "      <td>4</td>\n",
       "    </tr>\n",
       "    <tr>\n",
       "      <th>경기도 가평군</th>\n",
       "      <td>4</td>\n",
       "    </tr>\n",
       "    <tr>\n",
       "      <th>경기도 광명시</th>\n",
       "      <td>3</td>\n",
       "    </tr>\n",
       "    <tr>\n",
       "      <th>경기도 양주시</th>\n",
       "      <td>3</td>\n",
       "    </tr>\n",
       "    <tr>\n",
       "      <th>경기도 구리시</th>\n",
       "      <td>2</td>\n",
       "    </tr>\n",
       "    <tr>\n",
       "      <th>경기도 화성시</th>\n",
       "      <td>1</td>\n",
       "    </tr>\n",
       "    <tr>\n",
       "      <th>경기도 의왕시</th>\n",
       "      <td>1</td>\n",
       "    </tr>\n",
       "  </tbody>\n",
       "</table>\n",
       "</div>"
      ],
      "text/plain": [
       "          지하철 역\n",
       "경기도 용인시      24\n",
       "경기도 의정부시     21\n",
       "경기도 고양시      21\n",
       "경기도 성남시      19\n",
       "경기도 남양주시     13\n",
       "경기도 안산시      13\n",
       "경기도 부천시      11\n",
       "경기도 수원시      11\n",
       "경기도 김포시       9\n",
       "경기도 양평군       9\n",
       "경기도 안양시       7\n",
       "경기도 군포시       7\n",
       "경기도 파주시       7\n",
       "경기도 시흥시       6\n",
       "경기도 동두천시      5\n",
       "경기도 평택시       5\n",
       "경기도 과천시       5\n",
       "경기도 오산시       4\n",
       "경기도 가평군       4\n",
       "경기도 광명시       3\n",
       "경기도 양주시       3\n",
       "경기도 구리시       2\n",
       "경기도 화성시       1\n",
       "경기도 의왕시       1"
      ]
     },
     "execution_count": 18,
     "metadata": {},
     "output_type": "execute_result"
    }
   ],
   "source": [
    "subway_cnt"
   ]
  },
  {
   "cell_type": "code",
   "execution_count": 19,
   "id": "8599d3bb",
   "metadata": {},
   "outputs": [],
   "source": [
    "subway_cnt.to_csv('./data/경기도_지하철역_data.csv')"
   ]
  }
 ],
 "metadata": {
  "kernelspec": {
   "display_name": "Python 3 (ipykernel)",
   "language": "python",
   "name": "python3"
  },
  "language_info": {
   "codemirror_mode": {
    "name": "ipython",
    "version": 3
   },
   "file_extension": ".py",
   "mimetype": "text/x-python",
   "name": "python",
   "nbconvert_exporter": "python",
   "pygments_lexer": "ipython3",
   "version": "3.11.3"
  }
 },
 "nbformat": 4,
 "nbformat_minor": 5
}
