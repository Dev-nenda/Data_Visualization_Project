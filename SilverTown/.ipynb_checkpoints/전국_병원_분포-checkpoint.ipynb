{
 "cells": [
  {
   "cell_type": "code",
   "execution_count": 1,
   "id": "5acef8e4",
   "metadata": {},
   "outputs": [],
   "source": [
    "import pandas as pd\n",
    "import numpy as np\n",
    "import matplotlib.pyplot as plt\n",
    "%matplotlib inline"
   ]
  },
  {
   "cell_type": "code",
   "execution_count": 2,
   "id": "c4b4d73e",
   "metadata": {},
   "outputs": [],
   "source": [
    "data = pd.read_csv('./data/병원list.csv', \n",
    "                  low_memory=False)"
   ]
  },
  {
   "cell_type": "code",
   "execution_count": 4,
   "id": "92d305ae",
   "metadata": {},
   "outputs": [],
   "source": [
    "del data['Unnamed: 0']"
   ]
  },
  {
   "cell_type": "code",
   "execution_count": 5,
   "id": "4bc7b7b4",
   "metadata": {},
   "outputs": [
    {
     "data": {
      "text/html": [
       "<div>\n",
       "<style scoped>\n",
       "    .dataframe tbody tr th:only-of-type {\n",
       "        vertical-align: middle;\n",
       "    }\n",
       "\n",
       "    .dataframe tbody tr th {\n",
       "        vertical-align: top;\n",
       "    }\n",
       "\n",
       "    .dataframe thead th {\n",
       "        text-align: right;\n",
       "    }\n",
       "</style>\n",
       "<table border=\"1\" class=\"dataframe\">\n",
       "  <thead>\n",
       "    <tr style=\"text-align: right;\">\n",
       "      <th></th>\n",
       "      <th>의료기관명</th>\n",
       "      <th>병원종류</th>\n",
       "      <th>주소</th>\n",
       "    </tr>\n",
       "  </thead>\n",
       "  <tbody>\n",
       "    <tr>\n",
       "      <th>0</th>\n",
       "      <td>서울대학교병원</td>\n",
       "      <td>상급종합병원</td>\n",
       "      <td>서울특별시 종로구 대학로 101</td>\n",
       "    </tr>\n",
       "    <tr>\n",
       "      <th>1</th>\n",
       "      <td>부산대학교병원</td>\n",
       "      <td>상급종합병원</td>\n",
       "      <td>부산광역시 서구 구덕로 179</td>\n",
       "    </tr>\n",
       "    <tr>\n",
       "      <th>2</th>\n",
       "      <td>경북대학교병원</td>\n",
       "      <td>상급종합병원</td>\n",
       "      <td>대구광역시 중구 동덕로 130(삼덕로 2가)</td>\n",
       "    </tr>\n",
       "    <tr>\n",
       "      <th>3</th>\n",
       "      <td>칠곡경북대학교병원</td>\n",
       "      <td>상급종합병원</td>\n",
       "      <td>대구광역시 북구 호국로 807</td>\n",
       "    </tr>\n",
       "    <tr>\n",
       "      <th>4</th>\n",
       "      <td>전남대학교병원</td>\n",
       "      <td>상급종합병원</td>\n",
       "      <td>광주 동구 제봉로 42</td>\n",
       "    </tr>\n",
       "    <tr>\n",
       "      <th>...</th>\n",
       "      <td>...</td>\n",
       "      <td>...</td>\n",
       "      <td>...</td>\n",
       "    </tr>\n",
       "    <tr>\n",
       "      <th>67</th>\n",
       "      <td>목포시의료원</td>\n",
       "      <td>종합병원</td>\n",
       "      <td>전라남도 목포시 용해동 133-1번지</td>\n",
       "    </tr>\n",
       "    <tr>\n",
       "      <th>68</th>\n",
       "      <td>창원경상국립대학교병원</td>\n",
       "      <td>종합병원</td>\n",
       "      <td>경남 창원시 성산구 삼정자로 11</td>\n",
       "    </tr>\n",
       "    <tr>\n",
       "      <th>69</th>\n",
       "      <td>영주적십자병원</td>\n",
       "      <td>종합병원</td>\n",
       "      <td>경북 영주시 대학로327</td>\n",
       "    </tr>\n",
       "    <tr>\n",
       "      <th>70</th>\n",
       "      <td>성남시의료원</td>\n",
       "      <td>종합병원</td>\n",
       "      <td>성남시 수정구 수정로 171번길 10</td>\n",
       "    </tr>\n",
       "    <tr>\n",
       "      <th>71</th>\n",
       "      <td>세종충남대학교병원</td>\n",
       "      <td>종합병원</td>\n",
       "      <td>세종특별자치시 보듬7로 20</td>\n",
       "    </tr>\n",
       "  </tbody>\n",
       "</table>\n",
       "<p>72 rows × 3 columns</p>\n",
       "</div>"
      ],
      "text/plain": [
       "          의료기관명    병원종류                        주소\n",
       "0       서울대학교병원  상급종합병원         서울특별시 종로구 대학로 101\n",
       "1       부산대학교병원  상급종합병원          부산광역시 서구 구덕로 179\n",
       "2       경북대학교병원  상급종합병원  대구광역시 중구 동덕로 130(삼덕로 2가)\n",
       "3     칠곡경북대학교병원  상급종합병원          대구광역시 북구 호국로 807\n",
       "4       전남대학교병원  상급종합병원              광주 동구 제봉로 42\n",
       "..          ...     ...                       ...\n",
       "67       목포시의료원    종합병원      전라남도 목포시 용해동 133-1번지\n",
       "68  창원경상국립대학교병원    종합병원        경남 창원시 성산구 삼정자로 11\n",
       "69      영주적십자병원    종합병원             경북 영주시 대학로327\n",
       "70       성남시의료원    종합병원      성남시 수정구 수정로 171번길 10\n",
       "71    세종충남대학교병원    종합병원           세종특별자치시 보듬7로 20\n",
       "\n",
       "[72 rows x 3 columns]"
      ]
     },
     "execution_count": 5,
     "metadata": {},
     "output_type": "execute_result"
    }
   ],
   "source": [
    "data"
   ]
  },
  {
   "cell_type": "code",
   "execution_count": 13,
   "id": "dabd171b",
   "metadata": {},
   "outputs": [
    {
     "data": {
      "text/plain": [
       "0     서울\n",
       "1     부산\n",
       "2     대구\n",
       "3     대구\n",
       "4     광주\n",
       "      ..\n",
       "67    전라\n",
       "68    경남\n",
       "69    경북\n",
       "70    성남\n",
       "71    세종\n",
       "Name: 주소, Length: 72, dtype: object"
      ]
     },
     "execution_count": 13,
     "metadata": {},
     "output_type": "execute_result"
    }
   ],
   "source": [
    "addr = data.주소.str.slice(start=0, stop=2)\n",
    "addr"
   ]
  },
  {
   "cell_type": "code",
   "execution_count": 14,
   "id": "5c2d0be6",
   "metadata": {},
   "outputs": [
    {
     "data": {
      "text/plain": [
       "주소\n",
       "경기    11\n",
       "서울    10\n",
       "강원     7\n",
       "전라     6\n",
       "경상     5\n",
       "충청     5\n",
       "대구     4\n",
       "부산     4\n",
       "경남     3\n",
       "대전     3\n",
       "광주     3\n",
       "인천     2\n",
       "충남     2\n",
       "경북     2\n",
       "제주     2\n",
       "전남     1\n",
       "성남     1\n",
       "세종     1\n",
       "Name: count, dtype: int64"
      ]
     },
     "execution_count": 14,
     "metadata": {},
     "output_type": "execute_result"
    }
   ],
   "source": [
    "addr.value_counts()"
   ]
  },
  {
   "cell_type": "code",
   "execution_count": 22,
   "id": "2f843543",
   "metadata": {},
   "outputs": [],
   "source": [
    "addr = addr.str.replace('전남','전라').replace('충남', '충청').replace('성남','경기').replace('경남','경상').replace('경북', '경상')"
   ]
  },
  {
   "cell_type": "code",
   "execution_count": 23,
   "id": "2cf624e6",
   "metadata": {},
   "outputs": [
    {
     "data": {
      "text/plain": [
       "주소\n",
       "경기    12\n",
       "서울    10\n",
       "경상    10\n",
       "충청     7\n",
       "전라     7\n",
       "강원     7\n",
       "부산     4\n",
       "대구     4\n",
       "광주     3\n",
       "대전     3\n",
       "인천     2\n",
       "제주     2\n",
       "세종     1\n",
       "Name: count, dtype: int64"
      ]
     },
     "execution_count": 23,
     "metadata": {},
     "output_type": "execute_result"
    }
   ],
   "source": [
    "addr.value_counts()"
   ]
  },
  {
   "cell_type": "code",
   "execution_count": 24,
   "id": "431da7fd",
   "metadata": {},
   "outputs": [],
   "source": [
    "addr_cnt = addr.value_counts()"
   ]
  },
  {
   "cell_type": "code",
   "execution_count": 46,
   "id": "00820886",
   "metadata": {},
   "outputs": [],
   "source": [
    "# addr data의 숫자제거\n",
    "i = 0\n",
    "addr_fin = pd.Series() # 빈 시리즈 생성\n",
    "for string in addr :\n",
    "    addr_fin[i] = string\n",
    "    i = i+1"
   ]
  },
  {
   "cell_type": "code",
   "execution_count": 53,
   "id": "e606cc48",
   "metadata": {},
   "outputs": [
    {
     "data": {
      "text/plain": [
       "경기    12\n",
       "서울    10\n",
       "경상    10\n",
       "충청     7\n",
       "전라     7\n",
       "강원     7\n",
       "부산     4\n",
       "대구     4\n",
       "광주     3\n",
       "대전     3\n",
       "인천     2\n",
       "제주     2\n",
       "세종     1\n",
       "Name: count, dtype: int64"
      ]
     },
     "execution_count": 53,
     "metadata": {},
     "output_type": "execute_result"
    }
   ],
   "source": [
    "addr_fin.value_counts()"
   ]
  },
  {
   "cell_type": "code",
   "execution_count": 54,
   "id": "4d8fe998",
   "metadata": {},
   "outputs": [],
   "source": [
    "addr_cnt = addr_fin.value_counts()"
   ]
  },
  {
   "cell_type": "code",
   "execution_count": 26,
   "id": "f87d0eac",
   "metadata": {},
   "outputs": [],
   "source": [
    "hospital_addr = pd.DataFrame(addr_cnt)"
   ]
  },
  {
   "cell_type": "code",
   "execution_count": 27,
   "id": "be6d4516",
   "metadata": {},
   "outputs": [
    {
     "data": {
      "text/html": [
       "<div>\n",
       "<style scoped>\n",
       "    .dataframe tbody tr th:only-of-type {\n",
       "        vertical-align: middle;\n",
       "    }\n",
       "\n",
       "    .dataframe tbody tr th {\n",
       "        vertical-align: top;\n",
       "    }\n",
       "\n",
       "    .dataframe thead th {\n",
       "        text-align: right;\n",
       "    }\n",
       "</style>\n",
       "<table border=\"1\" class=\"dataframe\">\n",
       "  <thead>\n",
       "    <tr style=\"text-align: right;\">\n",
       "      <th></th>\n",
       "      <th>count</th>\n",
       "    </tr>\n",
       "    <tr>\n",
       "      <th>주소</th>\n",
       "      <th></th>\n",
       "    </tr>\n",
       "  </thead>\n",
       "  <tbody>\n",
       "    <tr>\n",
       "      <th>경기</th>\n",
       "      <td>12</td>\n",
       "    </tr>\n",
       "    <tr>\n",
       "      <th>서울</th>\n",
       "      <td>10</td>\n",
       "    </tr>\n",
       "    <tr>\n",
       "      <th>경상</th>\n",
       "      <td>10</td>\n",
       "    </tr>\n",
       "    <tr>\n",
       "      <th>충청</th>\n",
       "      <td>7</td>\n",
       "    </tr>\n",
       "    <tr>\n",
       "      <th>전라</th>\n",
       "      <td>7</td>\n",
       "    </tr>\n",
       "    <tr>\n",
       "      <th>강원</th>\n",
       "      <td>7</td>\n",
       "    </tr>\n",
       "    <tr>\n",
       "      <th>부산</th>\n",
       "      <td>4</td>\n",
       "    </tr>\n",
       "    <tr>\n",
       "      <th>대구</th>\n",
       "      <td>4</td>\n",
       "    </tr>\n",
       "    <tr>\n",
       "      <th>광주</th>\n",
       "      <td>3</td>\n",
       "    </tr>\n",
       "    <tr>\n",
       "      <th>대전</th>\n",
       "      <td>3</td>\n",
       "    </tr>\n",
       "    <tr>\n",
       "      <th>인천</th>\n",
       "      <td>2</td>\n",
       "    </tr>\n",
       "    <tr>\n",
       "      <th>제주</th>\n",
       "      <td>2</td>\n",
       "    </tr>\n",
       "    <tr>\n",
       "      <th>세종</th>\n",
       "      <td>1</td>\n",
       "    </tr>\n",
       "  </tbody>\n",
       "</table>\n",
       "</div>"
      ],
      "text/plain": [
       "    count\n",
       "주소       \n",
       "경기     12\n",
       "서울     10\n",
       "경상     10\n",
       "충청      7\n",
       "전라      7\n",
       "강원      7\n",
       "부산      4\n",
       "대구      4\n",
       "광주      3\n",
       "대전      3\n",
       "인천      2\n",
       "제주      2\n",
       "세종      1"
      ]
     },
     "execution_count": 27,
     "metadata": {},
     "output_type": "execute_result"
    }
   ],
   "source": [
    "hospital_addr"
   ]
  },
  {
   "cell_type": "code",
   "execution_count": 31,
   "id": "c1e8a1fb",
   "metadata": {},
   "outputs": [],
   "source": [
    "hospital_addr = hospital_addr.T"
   ]
  },
  {
   "cell_type": "code",
   "execution_count": 32,
   "id": "d79de1dc",
   "metadata": {},
   "outputs": [
    {
     "data": {
      "text/html": [
       "<div>\n",
       "<style scoped>\n",
       "    .dataframe tbody tr th:only-of-type {\n",
       "        vertical-align: middle;\n",
       "    }\n",
       "\n",
       "    .dataframe tbody tr th {\n",
       "        vertical-align: top;\n",
       "    }\n",
       "\n",
       "    .dataframe thead th {\n",
       "        text-align: right;\n",
       "    }\n",
       "</style>\n",
       "<table border=\"1\" class=\"dataframe\">\n",
       "  <thead>\n",
       "    <tr style=\"text-align: right;\">\n",
       "      <th>주소</th>\n",
       "      <th>경기</th>\n",
       "      <th>서울</th>\n",
       "      <th>경상</th>\n",
       "      <th>충청</th>\n",
       "      <th>전라</th>\n",
       "      <th>강원</th>\n",
       "      <th>부산</th>\n",
       "      <th>대구</th>\n",
       "      <th>광주</th>\n",
       "      <th>대전</th>\n",
       "      <th>인천</th>\n",
       "      <th>제주</th>\n",
       "      <th>세종</th>\n",
       "    </tr>\n",
       "  </thead>\n",
       "  <tbody>\n",
       "    <tr>\n",
       "      <th>count</th>\n",
       "      <td>12</td>\n",
       "      <td>10</td>\n",
       "      <td>10</td>\n",
       "      <td>7</td>\n",
       "      <td>7</td>\n",
       "      <td>7</td>\n",
       "      <td>4</td>\n",
       "      <td>4</td>\n",
       "      <td>3</td>\n",
       "      <td>3</td>\n",
       "      <td>2</td>\n",
       "      <td>2</td>\n",
       "      <td>1</td>\n",
       "    </tr>\n",
       "  </tbody>\n",
       "</table>\n",
       "</div>"
      ],
      "text/plain": [
       "주소     경기  서울  경상  충청  전라  강원  부산  대구  광주  대전  인천  제주  세종\n",
       "count  12  10  10   7   7   7   4   4   3   3   2   2   1"
      ]
     },
     "execution_count": 32,
     "metadata": {},
     "output_type": "execute_result"
    }
   ],
   "source": [
    "hospital_addr"
   ]
  },
  {
   "cell_type": "code",
   "execution_count": 36,
   "id": "740f5f9b",
   "metadata": {},
   "outputs": [],
   "source": [
    "import squarify"
   ]
  },
  {
   "cell_type": "code",
   "execution_count": 37,
   "id": "75ae8c10",
   "metadata": {},
   "outputs": [],
   "source": [
    "hospital_addr.to_csv('./data/지역별_종합병원_갯수.csv')"
   ]
  }
 ],
 "metadata": {
  "kernelspec": {
   "display_name": "Python 3 (ipykernel)",
   "language": "python",
   "name": "python3"
  },
  "language_info": {
   "codemirror_mode": {
    "name": "ipython",
    "version": 3
   },
   "file_extension": ".py",
   "mimetype": "text/x-python",
   "name": "python",
   "nbconvert_exporter": "python",
   "pygments_lexer": "ipython3",
   "version": "3.11.3"
  }
 },
 "nbformat": 4,
 "nbformat_minor": 5
}
